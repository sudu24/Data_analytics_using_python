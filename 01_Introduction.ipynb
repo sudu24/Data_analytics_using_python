{
 "cells": [
  {
   "cell_type": "markdown",
   "metadata": {},
   "source": [
    "# <center>Welcome to Business Data Analytics</center>"
   ]
  },
  {
   "cell_type": "markdown",
   "metadata": {},
   "source": [
    "# Main Objectives\n",
    "---\n",
    "At the end of this session, you will be able to:\n",
    "\n",
    "* Understand the basics of Python\n",
    "* Understand the libraries and the how to:\n",
    "    * Install a library\n",
    "    * Import a library\n",
    "    * Use functions from a library\n",
    "* Understand how to work with files in python\n",
    "\n",
    "* Understand the measures of central tendencies and the differences between: \n",
    "   * mean\n",
    "   * median\n",
    "   * mode\n",
    "\n",
    "* Understand measures of dispersion and the differences between:\n",
    "   * simple spread\n",
    "   * quantiles\n",
    "   * interquartile ranges\n",
    "   * variance\n",
    "   * standard deviation\n",
    "\n",
    "* Understand measures of skewness and kurtosis\n",
    "\n",
    "* Understand web scraping, word cloud and sentiment analysis"
   ]
  },
  {
   "cell_type": "markdown",
   "metadata": {},
   "source": [
    "# Session Split\n",
    "\n",
    "### - Introduction to Python\n",
    "### - Introduction to Statistics\n",
    "### - Scrape data from Internet"
   ]
  },
  {
   "cell_type": "markdown",
   "metadata": {},
   "source": [
    "# How to get the most of this experience"
   ]
  },
  {
   "cell_type": "markdown",
   "metadata": {},
   "source": [
    "## Play\n",
    "\n",
    "I love this picture: this literally is how I learn... everything.\n",
    "\n",
    "\n",
    "<img src='images/changing_stuff.jpg' width='450'>\n",
    "\n",
    "* To wrap your head around python, statistics and probability, your best results will often come from applying the tools and techniques, time and time again. \n",
    "* Learning will especially come through play, where you ask all the **\"what if...?\"** or **\"what will happen if...?\"** questions. I encourage you to:\n",
    "    * Ask these questions!\n",
    "    * Try for yourself, to see what happens!\n",
    "    * Generally, you won't break anything\n",
    "    * IF you do, you will still learn something\n"
   ]
  },
  {
   "cell_type": "markdown",
   "metadata": {},
   "source": [
    "Ultimately, our hope is to show you enough about python/statistics to encourage you to seek out more, to continue your exploration of a fun and fascinating subject. \n",
    "\n",
    "# <center>Let's get started!</center>"
   ]
  }
 ],
 "metadata": {
  "kernelspec": {
   "display_name": "Python 3",
   "language": "python",
   "name": "python3"
  },
  "language_info": {
   "codemirror_mode": {
    "name": "ipython",
    "version": 3
   },
   "file_extension": ".py",
   "mimetype": "text/x-python",
   "name": "python",
   "nbconvert_exporter": "python",
   "pygments_lexer": "ipython3",
   "version": "3.7.3"
  }
 },
 "nbformat": 4,
 "nbformat_minor": 2
}
